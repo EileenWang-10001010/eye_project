{
  "nbformat": 4,
  "nbformat_minor": 0,
  "metadata": {
    "colab": {
      "name": "feature correlation",
      "provenance": [],
      "collapsed_sections": [],
      "mount_file_id": "1yz14yd_ZTvs_0mBm6XN69J5gWiDtzF89",
      "authorship_tag": "ABX9TyPsC2dqni2sPgDk4NsMSjUQ",
      "include_colab_link": true
    },
    "kernelspec": {
      "name": "python3",
      "display_name": "Python 3"
    },
    "accelerator": "GPU"
  },
  "cells": [
    {
      "cell_type": "markdown",
      "metadata": {
        "id": "view-in-github",
        "colab_type": "text"
      },
      "source": [
        "<a href=\"https://colab.research.google.com/github/EileenWang-10001010/eye_project/blob/main/feature_correlation.ipynb\" target=\"_parent\"><img src=\"https://colab.research.google.com/assets/colab-badge.svg\" alt=\"Open In Colab\"/></a>"
      ]
    },
    {
      "cell_type": "code",
      "source": [
        "files = ['/content/drive/MyDrive/Colab Notebooks/parameter_Np_right.txt',\n",
        "      '/content/drive/MyDrive/Colab Notebooks/parameter_OAG_right.txt', \n",
        "      '/content/drive/MyDrive/Colab Notebooks/parameter_ACG_right.txt'\n",
        "      ]\n",
        "      # 105 lines, 110 features\n",
        "\n",
        "#print(files[1].split(\"_\")[-2]) #OAG"
      ],
      "metadata": {
        "id": "Y0F69DPZjNyB"
      },
      "execution_count": null,
      "outputs": []
    },
    {
      "cell_type": "code",
      "source": [
        "import numpy as np\n",
        "import pandas as pd\n",
        "# data = np.array([])\n",
        "data = []\n",
        "category = []\n",
        "data_length = []\n",
        "\n",
        "for i in range(len(files)):\n",
        "  f = open(files[i])\n",
        "\n",
        "  for line in f:\n",
        "    line = line.split(',')\n",
        "    # categorical label\n",
        "    category.append(files[i].split(\"_\")[-2])\n",
        "    data.append([float(i) for i in line])\n",
        "\n",
        "  data_length.append(len(data))\n",
        "  f.close()\n",
        "\n",
        "print(len(data[0]))\n",
        "print(data_length) #[15, 63, 105]\n",
        "\n",
        "data = np.array(data)\n",
        "# print(type(data), data.shape) # <class 'numpy.ndarray'> (105, 110)"
      ],
      "metadata": {
        "id": "GCpioflodjyR",
        "colab": {
          "base_uri": "https://localhost:8080/"
        },
        "outputId": "578bc378-477f-4d8e-e863-da163e8220c1"
      },
      "execution_count": null,
      "outputs": [
        {
          "output_type": "stream",
          "name": "stdout",
          "text": [
            "110\n",
            "[15, 63, 105]\n"
          ]
        }
      ]
    },
    {
      "cell_type": "markdown",
      "source": [
        "**correlation** **heatmap**"
      ],
      "metadata": {
        "id": "OmT5lyVrTKfL"
      }
    },
    {
      "cell_type": "markdown",
      "source": [
        "one hot encoding \n",
        "https://ithelp.ithome.com.tw/articles/10233484\n"
      ],
      "metadata": {
        "id": "fnqd9CypvhW5"
      }
    },
    {
      "cell_type": "code",
      "source": [
        "label = pd.get_dummies(category)\n",
        "# type(label)\n",
        "dataOneHot = np.concatenate((data, label), axis=1)\n",
        "print(dataOneHot.shape)"
      ],
      "metadata": {
        "colab": {
          "base_uri": "https://localhost:8080/"
        },
        "id": "uolqJRDHvbWc",
        "outputId": "03b34f8a-a6bf-451f-c8d0-0be0a0d128f1"
      },
      "execution_count": null,
      "outputs": [
        {
          "output_type": "stream",
          "name": "stdout",
          "text": [
            "(105, 113)\n"
          ]
        }
      ]
    },
    {
      "cell_type": "markdown",
      "source": [
        "https://www.analyticsvidhya.com/blog/2020/03/one-hot-encoding-vs-label-encoding-using-scikit-learn/\n",
        "\n",
        "https://www.geeksforgeeks.org/detecting-multicollinearity-with-vif-python/\n",
        "\n",
        "https://machinelearningmastery.com/multi-class-classification-tutorial-keras-deep-learning-library/\n"
      ],
      "metadata": {
        "id": "bM3zsBvC49ba"
      }
    },
    {
      "cell_type": "code",
      "source": [
        "import matplotlib.pyplot as plt\n",
        "import seaborn as sns\n",
        "fig = plt.figure(figsize=(100, 50))\n",
        "# combination = pd.DataFrame(combination)\n",
        "# print(combination)\n",
        "corr=pd.DataFrame(dataOneHot).corr()\n",
        "# sns.heatmap(corr, annot=True, vmin=0.75)"
      ],
      "metadata": {
        "id": "wfc9CHnl4-2B",
        "colab": {
          "base_uri": "https://localhost:8080/",
          "height": 35
        },
        "outputId": "21bedf93-7e9a-4aa5-9c9e-cbe134bb2190"
      },
      "execution_count": null,
      "outputs": [
        {
          "output_type": "display_data",
          "data": {
            "text/plain": [
              "<Figure size 7200x3600 with 0 Axes>"
            ]
          },
          "metadata": {}
        }
      ]
    },
    {
      "cell_type": "markdown",
      "source": [
        "feature-catergory correlation"
      ],
      "metadata": {
        "id": "IgZ_sFNlxmAa"
      }
    },
    {
      "cell_type": "code",
      "source": [
        "Np_feature = {index: feature for index, feature in enumerate(corr[:][110]) if (feature>0.3 or feature<-0.3)}\n",
        "OAG_feature = {index: feature for index, feature in enumerate(corr[:][111]) if (feature>0.2 or feature<-0.4)}\n",
        "ACG_feature = {index: feature for index, feature in enumerate(corr[:][112]) if (feature>0.2 or feature<-0.4)}\n",
        "print(Np_feature,'\\n',OAG_feature,'\\n',ACG_feature)"
      ],
      "metadata": {
        "colab": {
          "base_uri": "https://localhost:8080/"
        },
        "id": "3l2I6bpao1F5",
        "outputId": "bfa55645-f286-4e4e-9a7e-48a52b49e4c4"
      },
      "execution_count": null,
      "outputs": [
        {
          "output_type": "stream",
          "name": "stdout",
          "text": [
            "{7: 0.32162724596413544, 23: 0.32323850737255627, 110: 1.0, 111: -0.33333333333333337, 112: -0.7492686492653552} \n",
            " {44: -0.45073988857016595, 56: 0.24277347172020292, 78: 0.23021938190850347, 93: -0.40868821809389183, 111: 1.0} \n",
            " {40: 0.20993983563007523, 88: 0.27155299689332696, 110: -0.7492686492653552, 112: 1.0}\n"
          ]
        }
      ]
    },
    {
      "cell_type": "markdown",
      "source": [
        "feature-feature correlation"
      ],
      "metadata": {
        "id": "wDvnQSkCxtjH"
      }
    },
    {
      "cell_type": "code",
      "source": [
        "# f2f={}\n",
        "# for i in range(corr.shape[0]):\n",
        "#   f2f[i]={index: feature for index, feature in enumerate(corr[:][i]) if (feature>0.75 or feature<-0.75) and (feature!=1)}\n",
        "# print(f2f)"
      ],
      "metadata": {
        "id": "UB0TBbG-xwdn"
      },
      "execution_count": null,
      "outputs": []
    },
    {
      "cell_type": "markdown",
      "source": [
        "**ROC, AUC and data distribution**\n",
        "https://seaborn.pydata.org/tutorial/distributions.html\n"
      ],
      "metadata": {
        "id": "Vqq81lksTTsI"
      }
    },
    {
      "cell_type": "code",
      "source": [
        "sns.displot(data, x=data[:,56], hue=category, multiple=\"dodge\")\n",
        "# sns.displot(data, x=data[:,8], hue=category, kind=\"kde\")"
      ],
      "metadata": {
        "colab": {
          "base_uri": "https://localhost:8080/",
          "height": 441
        },
        "id": "ws5WSQxyeWq9",
        "outputId": "57f19385-4c5e-4ff8-bee1-c72961d24166"
      },
      "execution_count": null,
      "outputs": [
        {
          "output_type": "stream",
          "name": "stderr",
          "text": [
            "/usr/local/lib/python3.7/dist-packages/seaborn/_core.py:882: FutureWarning: elementwise comparison failed; returning scalar instead, but in the future will perform elementwise comparison\n",
            "  val in data\n"
          ]
        },
        {
          "output_type": "execute_result",
          "data": {
            "text/plain": [
              "<seaborn.axisgrid.FacetGrid at 0x7f2e3f3d25d0>"
            ]
          },
          "metadata": {},
          "execution_count": 35
        },
        {
          "output_type": "display_data",
          "data": {
            "text/plain": [
              "<Figure size 418.125x360 with 1 Axes>"
            ],
            "image/png": "[encoded data removed]"
          },
          "metadata": {
            "needs_background": "light"
          }
        }
      ]
    },
    {
      "cell_type": "markdown",
      "source": [
        "https://scikit-learn.org/stable/modules/generated/sklearn.metrics.roc_curve.html#sklearn.metrics.roc_curve"
      ],
      "metadata": {
        "id": "vPTZG5BClVos"
      }
    },
    {
      "cell_type": "code",
      "source": [
        "from sklearn.preprocessing import label_binarize\n",
        "from sklearn.metrics import roc_curve, auc\n",
        "\n",
        "y_Np = label_binarize(category,classes=['Np']) # Np=1, OAG,ACG=0\n",
        "y_OAG = label_binarize(category,classes=['OAG'])\n",
        "y_ACG = label_binarize(category,classes=['ACG'])\n",
        "\n",
        "fpr = dict()\n",
        "tpr = dict()\n",
        "roc_auc = dict()\n",
        "\n",
        "# def roc(x):\n",
        "#   labelSet =[]\n",
        "#   for i in range(x.shape[1]):\n",
        "#     threshold_pt = np.linspace(min(x[:,i]), max(x[:,i]), num=150)\n",
        "#     for j in range(len(threshold_pt)):\n",
        "#       for k in range(x.shape[0]):\n",
        "#         if x[k,i] < threshold_pt[j]:\n",
        "#           labelSet.append(0)\n",
        "#         else:\n",
        "#           labelSet.append(1)\n",
        "#   labelSet = np.array(labelSet)\n",
        "#   labelSet=np.reshape(labelSet, (x.shape[0],len(threshold_pt),x.shape[1]))\n",
        "#   return labelSet\n",
        "\n",
        "# y_pred = roc(data) #105,150,110\n",
        "\n",
        "for i in range(data.shape[1]):\n",
        "  fpr[i], tpr[i], thresholds = roc_curve(y_Np, data[:,i]) #thresholds=24\n",
        "  roc_auc[i] = auc(fpr[i], tpr[i])\n",
        "\n",
        "max_roc_auc = {index: auc for (index, auc) in roc_auc.items() if auc>0.65}\n",
        "\n",
        "# print(max(roc_auc, key=roc_auc.get))\n",
        "print(max_roc_auc)"
      ],
      "metadata": {
        "colab": {
          "base_uri": "https://localhost:8080/"
        },
        "id": "cAzFhRZLTSXp",
        "outputId": "7918f86c-2a1b-41ae-fcb0-d918d173cde9"
      },
      "execution_count": null,
      "outputs": [
        {
          "output_type": "stream",
          "name": "stdout",
          "text": [
            "{0: 0.6562962962962964, 43: 0.6603703703703705, 56: 0.6725925925925926}\n"
          ]
        }
      ]
    },
    {
      "cell_type": "markdown",
      "source": [
        "https://towardsdatascience.com/the-search-for-categorical-correlation-a1cf7f1888c9\n",
        "https://ithelp.ithome.com.tw/articles/10197461\n"
      ],
      "metadata": {
        "id": "qrX0gQOhBQH-"
      }
    },
    {
      "cell_type": "markdown",
      "source": [
        "Cramer's V correlation\n",
        "https://www.statology.org/cramers-v-in-python/"
      ],
      "metadata": {
        "id": "vIwLIenf_m-G"
      }
    },
    {
      "cell_type": "code",
      "source": [
        ""
      ],
      "metadata": {
        "id": "EvqLSA0H9Hz1"
      },
      "execution_count": null,
      "outputs": []
    },
    {
      "cell_type": "markdown",
      "source": [
        "Oridinal encoding"
      ],
      "metadata": {
        "id": "OuFU2vHyyp_N"
      }
    },
    {
      "cell_type": "code",
      "source": [
        "# y_Np = label_binarize(category,classes=['Np']) # Np=1, OAG,ACG=0\n",
        "ordinal_Np = np.concatenate((data, y_Np), axis=1)\n",
        "ordinal_corr = pd.DataFrame(label).corr(method = 'pearson')\n",
        "fig = plt.figure(figsize=(100, 50))\n",
        "# sns.heatmap(ordinal_corr)\n",
        "ordinal_max = {index: feature for index, feature in enumerate(corr[:][111]) if (feature>0.4 or feature<-0.4)}\n",
        "print(ordinal_max)"
      ],
      "metadata": {
        "colab": {
          "base_uri": "https://localhost:8080/",
          "height": 52
        },
        "id": "oX6wRWi1zOIH",
        "outputId": "4b024baa-81aa-47fd-a2bd-39a3e4c5bb09"
      },
      "execution_count": null,
      "outputs": [
        {
          "output_type": "stream",
          "name": "stdout",
          "text": [
            "{44: -0.45073988857016595, 93: -0.40868821809389183, 111: 1.0}\n"
          ]
        },
        {
          "output_type": "display_data",
          "data": {
            "text/plain": [
              "<Figure size 7200x3600 with 0 Axes>"
            ]
          },
          "metadata": {}
        }
      ]
    },
    {
      "cell_type": "code",
      "source": [
        "ordinal_label = [3] * data_length[0] + [2] * (data_length[1]-data_length[0]) + [1] * (data_length[2]-data_length[1])\n",
        "ordinal_corr = pd.DataFrame(label).corr(method = 'pearson')\n",
        "ordinal_max = {index: feature for index, feature in enumerate(corr[:][111]) if (feature>0.4 or feature<-0.4)}\n",
        "print(ordinal_max)"
      ],
      "metadata": {
        "colab": {
          "base_uri": "https://localhost:8080/"
        },
        "id": "ClZCxnB43enH",
        "outputId": "5544c608-6b6f-4258-e629-b125aeff8061"
      },
      "execution_count": null,
      "outputs": [
        {
          "output_type": "stream",
          "name": "stdout",
          "text": [
            "{44: -0.45073988857016595, 93: -0.40868821809389183, 111: 1.0}\n"
          ]
        }
      ]
    },
    {
      "cell_type": "markdown",
      "source": [
        "forward selection"
      ],
      "metadata": {
        "id": "6O-WZKES9CMP"
      }
    },
    {
      "cell_type": "code",
      "source": [
        "from sklearn.feature_selection import SequentialFeatureSelector as SFS\n",
        "from sklearn.linear_model import LogisticRegression\n",
        "from sklearn.model_selection import cross_val_score\n",
        "\n",
        "# n=1 # 10 s\n",
        "\n",
        "sfs = SFS(LogisticRegression(),\n",
        "          n_features_to_select = 9, #tuning\n",
        "          direction= 'forward',\n",
        "          scoring = 'roc_auc',\n",
        "          )\n",
        "# default :　5-fold cross validation\n",
        "\n",
        "clf = LogisticRegression(max_iter=2500,penalty='l2', C=0.1)\n",
        "\n",
        "from sklearn.model_selection import train_test_split\n",
        "X_train, X_test, y_train, y_test = train_test_split(z, y, test_size=0.2, random_state=42)\n",
        "X_train, X_val, y_train, y_val = train_test_split(X_train, y_train, test_size=0.2, random_state=42)\n",
        "\n",
        "# training data fits logistic regression\n",
        "sfs.fit(X_train, y_train)\n",
        "\n",
        "# training data transformed to fewer features\n",
        "forward_tr = sfs.transform(X_train)\n",
        "\n",
        "print(\"training data shape: \",forward_tr.shape)\n",
        "\n",
        "# 選出的 feature index\n",
        "idx = np.where(sfs.get_support())\n",
        "# idx = map(lambda x: x+1,idx)\n",
        "\n",
        "print(\"feature selected: \", idx)\n",
        "# 57, 22, 93, (12, 2, 1, 3, 5, 25, 29)"
      ],
      "metadata": {
        "id": "h_Dv9oiL9BGp"
      },
      "execution_count": null,
      "outputs": []
    },
    {
      "cell_type": "code",
      "source": [
        "from sklearn.feature_selection import SequentialFeatureSelector as SFS\n",
        "from sklearn.linear_model import LogisticRegression\n",
        "from sklearn.model_selection import cross_val_score\n",
        "\n",
        "# n=1 # 10 s\n",
        "\n",
        "sfs = SFS(LogisticRegression(),\n",
        "          n_features_to_select = 9, #tuning\n",
        "          direction= 'forward',\n",
        "          scoring = 'roc_auc',\n",
        "          )\n",
        "# default :　5-fold cross validation\n",
        "\n",
        "clf = LogisticRegression(max_iter=2500,penalty='l2', C=0.1)\n",
        "\n",
        "from sklearn.model_selection import train_test_split\n",
        "X_train, X_test, y_train, y_test = train_test_split(z, y, test_size=0.2, random_state=42)\n",
        "X_train, X_val, y_train, y_val = train_test_split(X_train, y_train, test_size=0.2, random_state=42)\n",
        "\n",
        "# training data fits logistic regression\n",
        "sfs.fit(X_train, y_train)\n",
        "\n",
        "# training data transformed to fewer features\n",
        "forward_tr = sfs.transform(X_train)\n",
        "\n",
        "print(\"training data shape: \",forward_tr.shape)\n",
        "\n",
        "# 選出的 feature index\n",
        "idx = np.where(sfs.get_support())\n",
        "# idx = map(lambda x: x+1,idx)\n",
        "\n",
        "print(\"feature selected: \", idx)\n",
        "# 57, 22, 93, (12, 2, 1, 3, 5, 25, 29)"
      ],
      "metadata": {
        "id": "X-Jj5vyNJ4Yz"
      },
      "execution_count": null,
      "outputs": []
    }
  ]
}